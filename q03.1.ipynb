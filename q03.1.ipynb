{
 "cells": [
  {
   "cell_type": "code",
   "execution_count": 4,
   "metadata": {},
   "outputs": [
    {
     "name": "stdout",
     "output_type": "stream",
     "text": [
      "Iteração 0: x = 0.0, f(x) = 1.0\n",
      "Iteração 1: x = 2.5, f(x) = 2.25\n",
      "Iteração 2: x = 1.25, f(x) = 0.0625\n",
      "Iteração 3: x = 0.625, f(x) = 0.140625\n",
      "Iteração 4: x = 0.9375, f(x) = 0.00390625\n",
      "Iteração 5: x = 1.09375, f(x) = 0.0087890625\n",
      "Iteração 6: x = 1.015625, f(x) = 0.000244140625\n",
      "Iteração 7: x = 0.9765625, f(x) = 0.00054931640625\n",
      "Iteração 8: x = 0.99609375, f(x) = 1.52587890625e-05\n",
      "Iteração 9: x = 1.005859375, f(x) = 3.4332275390625e-05\n",
      "Iteração 10: x = 1.0009765625, f(x) = 9.5367431640625e-07\n",
      "A raiz aproximada é: 1.00098.\n"
     ]
    }
   ],
   "source": [
    "import math\n",
    "import time \n",
    "\n",
    "# Função\n",
    "def f(x):\n",
    "    return (x-1)**2\n",
    "\n",
    "# Calculo de interações\n",
    "def calcK(a, b, epsilon):\n",
    "    return math.ceil(math.log2((abs(b-a))/epsilon))\n",
    "\n",
    "# Método da bissecção\n",
    "def bisseccao(a, b, epsilon, k):\n",
    "    iter_count = 0\n",
    "    # Para intervalos com f(a) e f(b) com o mesmo sinal\n",
    "    if f(a) * f(b) >= 0:\n",
    "        while (b - a) > epsilon:\n",
    "            x = (a + b) / 2 # Calculo do ponto médio\n",
    "            FX = f(x) # Calculo de f(x)\n",
    "            FA = f(a) # Calculo de f(a)\n",
    "            FB = f(b) # Calculo de f(b)\n",
    "            # Verificando se os valores no intervalo são menores que epsilon e consequentemente a raiz\n",
    "            print(f\"Iteração {iter_count}: x = {x}, f(x) = {f(x)}\")\n",
    "            if abs(FA) < epsilon:\n",
    "                return a\n",
    "            elif abs(FB) < epsilon:\n",
    "                return b\n",
    "            # Verificando se o valor de f(x) é menor que epsilon e consequentemente a raiz\n",
    "            elif abs(FX) < epsilon:\n",
    "                return x\n",
    "            # Escolha do intervalo\n",
    "            elif FB > FA:\n",
    "                b = x # Se f(b) for maior que f(a) então o intervalo é [a, x]\n",
    "            else:\n",
    "                a = x # Se f(a) for maior que f(b) então o intervalo é [x, b]\n",
    "            iter_count += 1\n",
    "            if iter_count > k: # Se o número de iterações for maior que k, então não foi possível encontrar a raiz\n",
    "                return None\n",
    "    else:\n",
    "        # Para intervalos com f(a) e f(b) opostos\n",
    "        while abs(b - a) > epsilon:\n",
    "            x = (a + b) / 2\n",
    "            if f(x) == 0:\n",
    "                return x\n",
    "            elif f(a) * f(x) < 0:\n",
    "                b = x\n",
    "            else:\n",
    "                a = x\n",
    "            iter_count += 1\n",
    "            print(f\"Iteração {iter_count}: x = {x}, f(x) = {f(x)}\")\n",
    "        return x\n",
    "\n",
    "# Entrada de dados\n",
    "a = float(input(\"Digite o valor de a: \"))\n",
    "b = float(input(\"Digite o valor de b: \"))\n",
    "epsilon = float(input(\"Digite o valor de epsilon: \"))\n",
    "k = calcK(a, b, epsilon)\n",
    "\n",
    "#inicio = time.time() \n",
    "raiz = bisseccao(a, b, epsilon, k)\n",
    "#fim = time.time()\n",
    "\n",
    "if raiz is not None:\n",
    "    print(f\"A raiz aproximada é: {raiz:.5f}.\")\n",
    "else:\n",
    "    print(f\"Não foi possível encontrar a raiz com os parâmetros fornecidos.\")"
   ]
  }
 ],
 "metadata": {
  "kernelspec": {
   "display_name": "Python 3",
   "language": "python",
   "name": "python3"
  },
  "language_info": {
   "codemirror_mode": {
    "name": "ipython",
    "version": 3
   },
   "file_extension": ".py",
   "mimetype": "text/x-python",
   "name": "python",
   "nbconvert_exporter": "python",
   "pygments_lexer": "ipython3",
   "version": "3.12.4"
  }
 },
 "nbformat": 4,
 "nbformat_minor": 2
}
