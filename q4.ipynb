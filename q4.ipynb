{
 "cells": [
  {
   "cell_type": "code",
   "execution_count": 4,
   "metadata": {},
   "outputs": [
    {
     "name": "stdout",
     "output_type": "stream",
     "text": [
      "0.625 -3.974609375\n",
      "0.9899569583931134 -2.0697979907927575\n",
      "1.1499123807802756 -0.8348756358253162\n",
      "1.2098806866114675 -0.30134045685174193\n",
      "1.2309485338967454 -0.10435598219025444\n",
      "1.2381758887499918 -0.03561882561939722\n",
      "1.2406347703587213 -0.012097165275166688\n",
      "1.241468959028628 -0.00410160299257889\n",
      "Iterações: 7\n",
      "k: 100\n",
      "Tempo (segundos): 0.0\n",
      "A raiz aproximada é: 1.24147.\n"
     ]
    }
   ],
   "source": [
    "## Q4\n",
    "#####\n",
    "import math\n",
    "import time \n",
    "\n",
    "# Função\n",
    "def f(x):\n",
    "    return x ** 3 + 2*(x**2) - 5\n",
    "\n",
    "def calcFakePosition(a, b):\n",
    "  return (a * f(b) - b * f(a)) / (f(b) - f(a))\n",
    "  \n",
    "iter_count = 0\n",
    "\n",
    "# Método da bissecção\n",
    "def falsa_posicao(a, b, epsilon, k):\n",
    "    global iter_count\n",
    "    # Para intervalos com f(a) e f(b) com o mesmo sinal\n",
    "    try:\n",
    "        while abs(calcFakePosition(a, b)) > epsilon and iter_count < k:\n",
    "            x = calcFakePosition(a, b)\n",
    "            FX = f(x) # Calculo de f(x)\n",
    "            FA = f(a) # Calculo de f(a)\n",
    "            FB = f(b) # Calculo de f(b)\n",
    "            print(x, FX)\n",
    "            \n",
    "            # Verificando se os valores no intervalo são menores que epsilon e consequentemente a raiz\n",
    "            if abs(FA) < epsilon:\n",
    "                return a\n",
    "            elif abs(FB) < epsilon:\n",
    "                return b\n",
    "            # Verificando se o valor de f(x) é menor que epsilon e consequentemente a raiz\n",
    "            elif abs(FX) < epsilon:\n",
    "                return x\n",
    "            # Escolha do intervalo\n",
    "            elif FX * FA < 0:\n",
    "                b = x # Se f(b) for maior que f(a) então o intervalo é [a, x]\n",
    "            else:\n",
    "                a = x # Se f(a) for maior que f(b) então o intervalo é [x, b]\n",
    "\n",
    "            iter_count += 1\n",
    "    except:\n",
    "        print(\"Divisão por zero\")\n",
    "        return None\n",
    "\n",
    "# Entrada de dados\n",
    "a = float(input(\"Digite o valor de a: \"))\n",
    "b = float(input(\"Digite o valor de b: \"))\n",
    "epsilon = 0.01\n",
    "k = 100\n",
    "\n",
    "inicio = time.time() \n",
    "raiz = falsa_posicao(a, b, epsilon, k)\n",
    "tempo_total = time.time() - inicio\n",
    "\n",
    "print(f\"Iterações: {iter_count}\")\n",
    "print(f\"k: {k}\")\n",
    "print(f\"Tempo (segundos): {tempo_total}\")\n",
    "\n",
    "if raiz is not None:\n",
    "    print(f\"A raiz aproximada é: {raiz:.5f}.\")\n",
    "else:\n",
    "    print(f\"Não foi possível encontrar a raiz com os parâmetros fornecidos.\")"
   ]
  }
 ],
 "metadata": {
  "kernelspec": {
   "display_name": "Python 3",
   "language": "python",
   "name": "python3"
  },
  "language_info": {
   "codemirror_mode": {
    "name": "ipython",
    "version": 3
   },
   "file_extension": ".py",
   "mimetype": "text/x-python",
   "name": "python",
   "nbconvert_exporter": "python",
   "pygments_lexer": "ipython3",
   "version": "3.12.4"
  }
 },
 "nbformat": 4,
 "nbformat_minor": 2
}
