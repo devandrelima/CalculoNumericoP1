{
 "cells": [
  {
   "cell_type": "code",
   "execution_count": 5,
   "metadata": {},
   "outputs": [
    {
     "name": "stdout",
     "output_type": "stream",
     "text": [
      "Tempo total em segundos: 0.007090568542480469\n",
      "Iterações: 2020\n",
      "Raiz: 1.0464138242242806\n"
     ]
    }
   ],
   "source": [
    "import time\n",
    "\n",
    "def func(x):\n",
    "\treturn (x - 1)**3\n",
    "\n",
    "def genFakePosition(a, b):\n",
    "\treturn (a * func(b) - b * func(a)) / (func(b) - func(a))\n",
    "\n",
    "# Intervalo\n",
    "epsilon = 0.0001\n",
    "a = -2\n",
    "b = 2\n",
    "\n",
    "k = 10000000\n",
    "contador = 0\n",
    "\n",
    "initTime = time.time()\n",
    "\n",
    "while (abs(func(genFakePosition(a, b))) > epsilon and contador < k):\n",
    "\tcontador += 1\n",
    "\tx = genFakePosition(a, b)\n",
    "\t\n",
    "\tif func(x) == 0:\n",
    "\t\tbreak\n",
    "\telif func(a) * func(x) < 0:\n",
    "\t\tb = x # Raiz está entre a e x\n",
    "\telse:\n",
    "\t\ta = x # Raiz está entre x e b\n",
    "\n",
    "x = genFakePosition(a, b)\n",
    "\n",
    "if (abs(func(x)) >= epsilon):\n",
    "\tx = False\n",
    "\n",
    "totalTime = time.time() - initTime\n",
    "\n",
    "print(\"Tempo total em segundos:\", totalTime)\n",
    "print(\"Iterações:\", contador)\n",
    "\n",
    "if x != False:\n",
    "\tprint(\"Raiz:\", x)\n",
    "else:\n",
    "\tprint(\"Nenhuma raiz foi encontrada\")\n"
   ]
  }
 ],
 "metadata": {
  "kernelspec": {
   "display_name": "Python 3",
   "language": "python",
   "name": "python3"
  },
  "language_info": {
   "codemirror_mode": {
    "name": "ipython",
    "version": 3
   },
   "file_extension": ".py",
   "mimetype": "text/x-python",
   "name": "python",
   "nbconvert_exporter": "python",
   "pygments_lexer": "ipython3",
   "version": "3.12.4"
  }
 },
 "nbformat": 4,
 "nbformat_minor": 2
}
