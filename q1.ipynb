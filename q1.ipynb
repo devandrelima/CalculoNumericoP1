{
 "cells": [
  {
   "cell_type": "code",
   "execution_count": 48,
   "metadata": {},
   "outputs": [
    {
     "name": "stdout",
     "output_type": "stream",
     "text": [
      "O número 3250 convertido para a base 16 =\n",
      "C B 2 "
     ]
    }
   ],
   "source": [
    "numeroEmBase10 = int(input(\"Digite um número em base 10: \"))\n",
    "numeroDaBase = int(input(\"Digite a base que deseja: \"))\n",
    "resto = []\n",
    "\n",
    "def passarParaHexa(n):\n",
    "    if(n == 10):\n",
    "        return 'A'\n",
    "    elif(n == 11):\n",
    "        return 'B'\n",
    "    elif(n == 12):\n",
    "        return 'C'\n",
    "    elif(n == 13):\n",
    "        return 'D'\n",
    "    elif(n == 14):\n",
    "        return 'E'\n",
    "    elif(n == 15):\n",
    "        return 'F'\n",
    "    else:\n",
    "        return n\n",
    "\n",
    "def transformarEmOutraBase(numeroDaBase, numeroEmBase10):\n",
    "    dividendo = numeroEmBase10\n",
    "    divisor = numeroDaBase\n",
    "\n",
    "\n",
    "    if(numeroEmBase10 > numeroDaBase):\n",
    "        while (dividendo >= numeroDaBase):\n",
    "            resto.append(dividendo % divisor)\n",
    "            dividendo = int(dividendo/divisor)\n",
    "        \n",
    "        resto.append(dividendo)\n",
    "    else:\n",
    "        resposta = numeroEmBase10\n",
    "\n",
    "        if(numeroDaBase == 16):\n",
    "            resposta = passarParaHexa(numeroEmBase10)\n",
    "\n",
    "        print(\"O número\", numeroEmBase10, \"convertido para a base\", numeroDaBase, \"=\", resposta) \n",
    "        return\n",
    "        \n",
    "    print(\"O número\", numeroEmBase10, \"convertido para a base\", numeroDaBase, \"=\",) \n",
    "    \n",
    "    tamanhoVetor = len(resto)\n",
    "\n",
    "    if(numeroDaBase == 16):\n",
    "        for n in range(tamanhoVetor-1, -1, -1): # Do maior índice até zero\n",
    "            print(passarParaHexa(resto[n]), end=' ')\n",
    "    else:\n",
    "        for n in range(tamanhoVetor-1, -1, -1): # Do maior índice até zero\n",
    "            print(resto[n], end=' ')\n",
    "\n",
    "transformarEmOutraBase(numeroDaBase, numeroEmBase10)\n"
   ]
  }
 ],
 "metadata": {
  "kernelspec": {
   "display_name": "Python 3",
   "language": "python",
   "name": "python3"
  },
  "language_info": {
   "codemirror_mode": {
    "name": "ipython",
    "version": 3
   },
   "file_extension": ".py",
   "mimetype": "text/x-python",
   "name": "python",
   "nbconvert_exporter": "python",
   "pygments_lexer": "ipython3",
   "version": "3.12.4"
  }
 },
 "nbformat": 4,
 "nbformat_minor": 2
}
