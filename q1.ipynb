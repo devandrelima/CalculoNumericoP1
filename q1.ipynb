{
 "cells": [
  {
   "cell_type": "code",
   "execution_count": null,
   "metadata": {},
   "outputs": [],
   "source": [
    "def s(x):\n",
    "return x**2 - 4\n",
    "\n",
    "epsilon = 0.0001\n",
    "a = 0\n",
    "b = 30 # Ajustado para ter sinais opostos em s(a) e s(b)\n",
    "\n",
    "# Garantir que s(a) e s(b) tenham sinais opostos\n",
    "    if s(a) * s(b) >= 0:\n",
    "        print(\"Erro: s(a) e s(b) devem ter sinais opostos.\")\n",
    "    else:\n",
    "        while abs(b - a) > epsilon:\n",
    "        x = (a + b) / 2\n",
    "            if s(x) == 0:\n",
    "                break\n",
    "            elif s(a) * s(x) < 0:\n",
    "                b = x\n",
    "            else:\n",
    "                a = x\n",
    "                \n",
    "print(f\"A raiz aproximada é: {x:.5f}\")"
   ]
  }
 ],
 "metadata": {
  "language_info": {
   "name": "python"
  }
 },
 "nbformat": 4,
 "nbformat_minor": 2
}
