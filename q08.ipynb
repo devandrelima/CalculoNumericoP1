{
 "cells": [
  {
   "cell_type": "code",
   "execution_count": 17,
   "metadata": {},
   "outputs": [
    {
     "name": "stdout",
     "output_type": "stream",
     "text": [
      "Iteração 1 : 14.551969050898117\n",
      "Iteração 2 : 15.443328323486385\n",
      "Iteração 3 : 15.1165313953711\n",
      "Iteração 4 : 15.236157124028935\n",
      "Iteração 5 : 15.192336496829682\n",
      "\n",
      "Resultado = 15.192336496829682\n"
     ]
    }
   ],
   "source": [
    "import math\n",
    "import numpy as np\n",
    "\n",
    "# função de iteração dada na questão\n",
    "def f(r0): \n",
    "    s = 1200 # área superficial indicada\n",
    "    h = 20   # altura indicada\n",
    "\n",
    "    return s/(math.pi*math.sqrt(r0**2 + h**2))\n",
    "\n",
    "# Método do Ponto Fixo\n",
    "def ponto_fixo(r):\n",
    "\n",
    "    for i in range(5): # quantidade de iterações\n",
    "        r = f(r)\n",
    "        print(\"Iteração\",i+1, \":\",r)\n",
    "\n",
    "    return r\n",
    "\n",
    "r0 = float(input(\"Entre com o raio inicial: \")) # A questão recomenda utilizar 17\n",
    "\n",
    "print(f\"\\nResultado = {ponto_fixo(r0)}\")\n",
    "\n"
   ]
  }
 ],
 "metadata": {
  "kernelspec": {
   "display_name": "Python 3",
   "language": "python",
   "name": "python3"
  },
  "language_info": {
   "codemirror_mode": {
    "name": "ipython",
    "version": 3
   },
   "file_extension": ".py",
   "mimetype": "text/x-python",
   "name": "python",
   "nbconvert_exporter": "python",
   "pygments_lexer": "ipython3",
   "version": "3.12.4"
  }
 },
 "nbformat": 4,
 "nbformat_minor": 2
}
