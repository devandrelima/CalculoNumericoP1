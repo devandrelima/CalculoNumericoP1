{
 "cells": [
  {
   "cell_type": "code",
   "execution_count": 11,
   "metadata": {},
   "outputs": [
    {
     "name": "stdout",
     "output_type": "stream",
     "text": [
      "RESULTADO DERIVADA 1° ORDEM\n",
      "A derivada função no ponto desejado é: 7.1000000000000085\n",
      "A derivada função no ponto desejado é: 6.899999999999995\n",
      "A derivada função no ponto desejado é: 7.000000000000002\n",
      "A derivada função no ponto desejado é: 6.999999999999989\n",
      "RESULTADO DERIVADA 2° ORDEM\n",
      "A derivada função no ponto desejado é: 2.0000000000001346\n",
      "A derivada função no ponto desejado é: 2.0000000000002087\n",
      "A derivada função no ponto desejado é: 1.999999999999957\n",
      "A derivada função no ponto desejado é: 2.0000000000002087\n",
      "RESULTADO DERIVADA 3° ORDEM\n",
      "A derivada função no ponto desejado é: 8.88178419700125e-13\n",
      "A derivada função no ponto desejado é: 8.88178419700125e-13\n",
      "A derivada função no ponto desejado é: 8.88178419700125e-13\n",
      "A derivada função no ponto desejado é: 7.105427357601e-12\n"
     ]
    }
   ],
   "source": [
    "import numpy as np\n",
    "def f(x):\n",
    "  return (x**2+x+3)\n",
    "\n",
    "h = float(input(\"Digite o valor do acréscimo: \"))\n",
    "x = float(input(\"Digite o ponto para o cálculo da derivada: \"))\n",
    "# CÁLCULO DA DERIVADA DE ORDEM 01\n",
    "derivada1_ordem1 = (f(x+h)-f(x))/h  # Definição básica de derivada (diferença à frente)\n",
    "derivada2_ordem1 = (f(x)-f(x-h))/h  # Diferença para trás\n",
    "derivada3_ordem1 = (f(x+h)-f(x-h))/(2*h)  # Diferença central (média entre pontos à frente e atrás)\n",
    "derivada4_ordem1 = (f(x-2*h)+8*f(x+h)-8*f(x-h)-f(x+2*h))/(12*h)  # Diferença finita de ordem superior (5 pontos)\n",
    "\n",
    "# CÁLCULO DA DERIVADA DE ORDEM 02\n",
    "derivada1_ordem2 = (f(x+h)-2*f(x)+f(x-h))/(h**2)  # Diferença finita de 2ª ordem\n",
    "derivada2_ordem2 = -(f(x+2*h)-16*f(x+h)+30*f(x)-16*f(x-h)+f(x-2*h))/(12*(h**2))  # Diferença finita de 5 pontos (precisão de 2 pontos)\n",
    "derivada3_ordem2 = (f(x + 2 * h) - 2 * f(x+h) + f(x)) / (h**2)  # Diferença direta (3 pontos consecutivos)\n",
    "derivada4_ordem2 = (-f(x+2*h) + 16*f(x+h) - 30*f(x) + 16*f(x-h) - f(x-2*h)) / (12*(h**2))  # Diferença finita de 5 pontos\n",
    "# CÁLCULO DA DERIVADA DE ORDEM 03\n",
    "derivada1_ordem3 = (f(x+2*h)-2*f(x+h)+2*f(x-h)-f(x-2*h))/(2*(h**3))  # Diferença finita de 3ª ordem\n",
    "derivada2_ordem3 = (-f(x + 3 * h) + 8 * f(x + 2 * h) - 13 * f(x + h) + 13 * f(x - h) - 8 * f(x - 2 * h) + f(x - 3 * h)) / (8 * (h**3))  # Diferença avançada de 3ª ordem (mais precisa)\n",
    "derivada3_ordem3 = (f(x + 2 * h) - 2 * f(x + h) + 2 * f(x - h) - f(x - 2 * h)) / (2 * h**3)  # Diferença central para 3ª derivada\n",
    "derivada4_ordem3 = (-1*f(x+3*h)+3*f(x+2*h)-3*f(x+h)+f(x))/(h**3)  # Diferença finita com termos de ordem maior para 3ª derivada\n",
    "\n",
    "print(\"RESULTADO DERIVADA 1° ORDEM\",)\n",
    "print(\"A derivada função no ponto desejado é:\", derivada1_ordem1)\n",
    "print(\"A derivada função no ponto desejado é:\", derivada2_ordem1)\n",
    "print(\"A derivada função no ponto desejado é:\", derivada3_ordem1)\n",
    "print(\"A derivada função no ponto desejado é:\", derivada4_ordem1)\n",
    "print(\"RESULTADO DERIVADA 2° ORDEM\",)\n",
    "print(\"A derivada função no ponto desejado é:\", derivada1_ordem2)\n",
    "print(\"A derivada função no ponto desejado é:\", derivada2_ordem2)\n",
    "print(\"A derivada função no ponto desejado é:\", derivada3_ordem2)\n",
    "print(\"A derivada função no ponto desejado é:\", derivada4_ordem2)\n",
    "print(\"RESULTADO DERIVADA 3° ORDEM\",)\n",
    "print(\"A derivada função no ponto desejado é:\", derivada1_ordem3)\n",
    "print(\"A derivada função no ponto desejado é:\", derivada2_ordem3)\n",
    "print(\"A derivada função no ponto desejado é:\", derivada3_ordem3)\n",
    "print(\"A derivada função no ponto desejado é:\", derivada4_ordem3)"
   ]
  }
 ],
 "metadata": {
  "kernelspec": {
   "display_name": "Python 3",
   "language": "python",
   "name": "python3"
  },
  "language_info": {
   "codemirror_mode": {
    "name": "ipython",
    "version": 3
   },
   "file_extension": ".py",
   "mimetype": "text/x-python",
   "name": "python",
   "nbconvert_exporter": "python",
   "pygments_lexer": "ipython3",
   "version": "3.12.4"
  }
 },
 "nbformat": 4,
 "nbformat_minor": 2
}
