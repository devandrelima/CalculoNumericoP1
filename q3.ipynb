{
 "cells": [
  {
   "cell_type": "code",
   "execution_count": 1,
   "metadata": {},
   "outputs": [
    {
     "name": "stdout",
     "output_type": "stream",
     "text": [
      "Não há raizes nesse intervalo\n"
     ]
    }
   ],
   "source": [
    "import math\n",
    "import numpy as np\n",
    "\n",
    "def calcK(a, b, epsilon):\n",
    "    return math.ceil(np.log2((b-a)/epsilon))\n",
    "\n",
    "def func(x):\n",
    "\treturn x**4 + x + 1\n",
    "\n",
    "# Intervalo\n",
    "a = -2\n",
    "b = 1\n",
    "\n",
    "# Precisão da aproximação\n",
    "epislon = 0.00001\n",
    "contador = 0\n",
    "roots = []\n",
    "\n",
    "# Limite de interações\n",
    "k = calcK(a,b, epislon)\n",
    "\n",
    "def findRoots(x0, x1, contador, roots):\n",
    "\tmidX = (x1 + x0) / 2\n",
    "\t#hasRoot = (func(x0) * func(x1)) < 0\n",
    "\t#print(x0, x1)\n",
    "\t\n",
    "\ty = func(midX)\n",
    "\t#print(midX, y)\n",
    "\tif abs(y) < epislon:\n",
    "\t\troots.append(midX)\n",
    "\t\treturn \n",
    "\t\t\n",
    "\tif (contador < k+1):\n",
    "\t\tcontador = contador + 1\n",
    "\t\tfindRoots(x0, midX, contador, roots)\n",
    "\t\tfindRoots(midX, x1, contador, roots)\n",
    "\n",
    "findRoots(a, b, contador, roots)\n",
    "\n",
    "if (len(roots) > 0):\n",
    "\tprint(roots)\n",
    "else:\n",
    "\tprint(\"Não há raizes nesse intervalo\")\n"
   ]
  }
 ],
 "metadata": {
  "kernelspec": {
   "display_name": "Python 3",
   "language": "python",
   "name": "python3"
  },
  "language_info": {
   "codemirror_mode": {
    "name": "ipython",
    "version": 3
   },
   "file_extension": ".py",
   "mimetype": "text/x-python",
   "name": "python",
   "nbconvert_exporter": "python",
   "pygments_lexer": "ipython3",
   "version": "3.12.4"
  }
 },
 "nbformat": 4,
 "nbformat_minor": 2
}
