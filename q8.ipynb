{
 "cells": [
  {
   "cell_type": "code",
   "execution_count": 4,
   "metadata": {},
   "outputs": [
    {
     "name": "stdout",
     "output_type": "stream",
     "text": [
      "Resultado = 15.192336496829682\n"
     ]
    }
   ],
   "source": [
    "import math\n",
    "import numpy as np\n",
    "\n",
    "# função de iteração dada na questão\n",
    "def f(r0): \n",
    "    s = 1200 # área superficial\n",
    "    h = 20   # altura\n",
    "\n",
    "    return s/(math.pi*math.sqrt(r0**2 + h**2))\n",
    "\n",
    "# Método do Ponto Fixo\n",
    "def ponto_fixo(r):\n",
    "\n",
    "    for i in range(5):\n",
    "        r = f(r)\n",
    "\n",
    "    return r\n",
    "\n",
    "r0 = float(input(\"Entre com o raio inicial: \"))\n",
    "\n",
    "print(f\"Resultado = {ponto_fixo(r0)}\")\n",
    "\n"
   ]
  }
 ],
 "metadata": {
  "kernelspec": {
   "display_name": "Python 3",
   "language": "python",
   "name": "python3"
  },
  "language_info": {
   "codemirror_mode": {
    "name": "ipython",
    "version": 3
   },
   "file_extension": ".py",
   "mimetype": "text/x-python",
   "name": "python",
   "nbconvert_exporter": "python",
   "pygments_lexer": "ipython3",
   "version": "3.12.4"
  }
 },
 "nbformat": 4,
 "nbformat_minor": 2
}
