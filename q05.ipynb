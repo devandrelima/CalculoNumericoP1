{
 "cells": [
  {
   "cell_type": "code",
   "execution_count": null,
   "metadata": {},
   "outputs": [
    {
     "name": "stdout",
     "output_type": "stream",
     "text": [
      "Ponto analisado: 2.0\n",
      "\n",
      "\n",
      "Função seno:\n",
      "\n",
      "O valor do limite pela direita é: 7.67080861767908039894336980069056153297424316406250\n",
      "O valor do limite pela esquerda é: 7.67080861765541488495045996387489140033721923828125\n",
      "O limite bilateral é: 7.67080861767908039894336980069056153297424316406250\n",
      "\n",
      "\n",
      "Função de potência 4:\n",
      "\n",
      "positivo\n",
      "positivo\n",
      "O valor do limite pela direita é: 15.00000000003200284481863491237163543701171875000000\n",
      "O valor do limite pela esquerda é: 14.99999999996799715518136508762836456298828125000000\n",
      "O limite bilateral é: 15.00000000003200284481863491237163543701171875000000\n"
     ]
    }
   ],
   "source": [
    "import numpy as np\n",
    "def funcao(x):\n",
    "    if x != 0:\n",
    "        return x**4 * np.sin(1/x)\n",
    "    else:\n",
    "        return 0\n",
    "\n",
    "def funcaog(x):\n",
    "    if x > 1:\n",
    "        return x**4 - 1\n",
    "    else:\n",
    "        return (-1* x**4) + 1\n",
    "\n",
    "def calcDirEsq(x0, func):\n",
    "    n = 1000000\n",
    "\n",
    "    valor_direita = func(x0 + 1/(10+n**2)) #Valor equivalente ao limite lateral pela direita.\n",
    "    valor_esquerda = func(x0 - 1/(10+n**2)) #Valor equivalente ao limite lateral pela esquerda\n",
    "\n",
    "    print(f\"O valor do limite pela direita é: {valor_direita:.50f}\")\n",
    "    print(f\"O valor do limite pela esquerda é: {valor_esquerda:.50f}\")\n",
    "    \n",
    "    epsilon = 0.00001\n",
    "\n",
    "    if abs(valor_direita - valor_esquerda) < epsilon:\n",
    "        print(f\"O limite bilateral é: {valor_direita:.50f}\")\n",
    "\n",
    "\n",
    "x0 = float(input(\"Digite o valor do ponto ser analisado: \"))\n",
    "\n",
    "print(\"Ponto analisado:\", x0)\n",
    "\n",
    "print(\"\\n\\nFunção seno:\\n\")\n",
    "calcDirEsq(x0, funcao)\n",
    "\n",
    "print(\"\\n\\nFunção de potência 4:\\n\")\n",
    "calcDirEsq(x0, funcaog)\n",
    "\n",
    "\n"
   ]
  }
 ],
 "metadata": {
  "kernelspec": {
   "display_name": "Python 3",
   "language": "python",
   "name": "python3"
  },
  "language_info": {
   "codemirror_mode": {
    "name": "ipython",
    "version": 3
   },
   "file_extension": ".py",
   "mimetype": "text/x-python",
   "name": "python",
   "nbconvert_exporter": "python",
   "pygments_lexer": "ipython3",
   "version": "3.12.4"
  }
 },
 "nbformat": 4,
 "nbformat_minor": 2
}
