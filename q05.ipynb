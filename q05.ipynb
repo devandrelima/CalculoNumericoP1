{
 "cells": [
  {
   "cell_type": "code",
   "execution_count": 2,
   "metadata": {},
   "outputs": [
    {
     "name": "stdout",
     "output_type": "stream",
     "text": [
      "Ponto analisado: 1.0\n",
      "\n",
      "\n",
      "Função seno:\n",
      "\n",
      "O valor do limite pela direita é: 0.84147098481072235554023563963710330426692962646484\n",
      "O valor do limite pela esquerda é: 0.84147098480507098727798620529938489198684692382812\n",
      "O limite bilateral é: 0.84147098481072235554023563963710330426692962646484\n",
      "\n",
      "\n",
      "Função de potência 4:\n",
      "\n",
      "O valor do limite pela direita é: 0.00000000000400035560232936404645442962646484375000\n",
      "O valor do limite pela esquerda é: 0.00000000000399991151311951398383826017379760742188\n",
      "O limite bilateral é: 0.00000000000400035560232936404645442962646484375000\n"
     ]
    }
   ],
   "source": [
    "import numpy as np\n",
    "def funcao(x):\n",
    "    if x != 0:\n",
    "        return x**4 * np.sin(1/x)\n",
    "    else:\n",
    "        return 0\n",
    "\n",
    "def funcaog(x):\n",
    "    if x > 1:\n",
    "        return x**4 - 1\n",
    "    else:\n",
    "        return (-1* x**4) + 1\n",
    "\n",
    "def calcDirEsq(x0, func):\n",
    "    n = 1000000\n",
    "\n",
    "    valor_direita = func(x0 + 1/(10+n**2)) #Valor equivalente ao limite lateral pela direita.\n",
    "    valor_esquerda = func(x0 - 1/(10+n**2)) #Valor equivalente ao limite lateral pela esquerda\n",
    "\n",
    "    print(f\"O valor do limite pela direita é: {valor_direita:.50f}\")\n",
    "    print(f\"O valor do limite pela esquerda é: {valor_esquerda:.50f}\")\n",
    "    \n",
    "    epsilon = 0.00001\n",
    "\n",
    "    if abs(valor_direita - valor_esquerda) < epsilon:\n",
    "        print(f\"O limite bilateral é: {valor_direita:.50f}\")\n",
    "\n",
    "\n",
    "x0 = float(input(\"Digite o valor do ponto ser analisado: \"))\n",
    "\n",
    "print(\"Ponto analisado:\", x0)\n",
    "\n",
    "print(\"\\n\\nFunção seno:\\n\")\n",
    "calcDirEsq(x0, funcao)\n",
    "\n",
    "print(\"\\n\\nFunção de potência 4:\\n\")\n",
    "calcDirEsq(x0, funcaog)\n",
    "\n",
    "\n"
   ]
  }
 ],
 "metadata": {
  "kernelspec": {
   "display_name": "Python 3",
   "language": "python",
   "name": "python3"
  },
  "language_info": {
   "codemirror_mode": {
    "name": "ipython",
    "version": 3
   },
   "file_extension": ".py",
   "mimetype": "text/x-python",
   "name": "python",
   "nbconvert_exporter": "python",
   "pygments_lexer": "ipython3",
   "version": "3.12.4"
  }
 },
 "nbformat": 4,
 "nbformat_minor": 2
}
